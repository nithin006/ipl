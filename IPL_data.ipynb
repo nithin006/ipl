{
  "cells": [
    {
      "cell_type": "markdown",
      "metadata": {
        "id": "view-in-github",
        "colab_type": "text"
      },
      "source": [
        "<a href=\"https://colab.research.google.com/github/nithin006/ipl/blob/main/IPL_data.ipynb\" target=\"_parent\"><img src=\"https://colab.research.google.com/assets/colab-badge.svg\" alt=\"Open In Colab\"/></a>"
      ]
    },
    {
      "cell_type": "code",
      "execution_count": null,
      "id": "50f74fbc",
      "metadata": {
        "id": "50f74fbc"
      },
      "outputs": [],
      "source": []
    },
    {
      "cell_type": "code",
      "execution_count": null,
      "id": "567a574c",
      "metadata": {
        "id": "567a574c"
      },
      "outputs": [],
      "source": [
        "import pandas as pd\n",
        "import numpy as np\n",
        "import seaborn as sns"
      ]
    },
    {
      "cell_type": "code",
      "execution_count": null,
      "id": "433168f8",
      "metadata": {
        "id": "433168f8"
      },
      "outputs": [],
      "source": [
        "matches = pd.read_csv(\"matches.csv\")\n",
        "deliveries = pd.read_csv(\"deliveries.csv\")"
      ]
    },
    {
      "cell_type": "code",
      "execution_count": null,
      "id": "4d6d2682",
      "metadata": {
        "id": "4d6d2682",
        "outputId": "96ec1f01-1932-45a0-a23f-02615f5d1172"
      },
      "outputs": [
        {
          "data": {
            "text/html": [
              "<div>\n",
              "<style scoped>\n",
              "    .dataframe tbody tr th:only-of-type {\n",
              "        vertical-align: middle;\n",
              "    }\n",
              "\n",
              "    .dataframe tbody tr th {\n",
              "        vertical-align: top;\n",
              "    }\n",
              "\n",
              "    .dataframe thead th {\n",
              "        text-align: right;\n",
              "    }\n",
              "</style>\n",
              "<table border=\"1\" class=\"dataframe\">\n",
              "  <thead>\n",
              "    <tr style=\"text-align: right;\">\n",
              "      <th></th>\n",
              "      <th>id</th>\n",
              "      <th>season</th>\n",
              "      <th>city</th>\n",
              "      <th>date</th>\n",
              "      <th>team1</th>\n",
              "      <th>team2</th>\n",
              "      <th>toss_winner</th>\n",
              "      <th>toss_decision</th>\n",
              "      <th>result</th>\n",
              "      <th>dl_applied</th>\n",
              "      <th>winner</th>\n",
              "      <th>win_by_runs</th>\n",
              "      <th>win_by_wickets</th>\n",
              "      <th>player_of_match</th>\n",
              "      <th>venue</th>\n",
              "      <th>umpire1</th>\n",
              "      <th>umpire2</th>\n",
              "      <th>umpire3</th>\n",
              "    </tr>\n",
              "  </thead>\n",
              "  <tbody>\n",
              "    <tr>\n",
              "      <th>0</th>\n",
              "      <td>1</td>\n",
              "      <td>2017</td>\n",
              "      <td>Hyderabad</td>\n",
              "      <td>2017-04-05</td>\n",
              "      <td>Sunrisers Hyderabad</td>\n",
              "      <td>Royal Challengers Bangalore</td>\n",
              "      <td>Royal Challengers Bangalore</td>\n",
              "      <td>field</td>\n",
              "      <td>normal</td>\n",
              "      <td>0</td>\n",
              "      <td>Sunrisers Hyderabad</td>\n",
              "      <td>35</td>\n",
              "      <td>0</td>\n",
              "      <td>Yuvraj Singh</td>\n",
              "      <td>Rajiv Gandhi International Stadium, Uppal</td>\n",
              "      <td>AY Dandekar</td>\n",
              "      <td>NJ Llong</td>\n",
              "      <td>NaN</td>\n",
              "    </tr>\n",
              "    <tr>\n",
              "      <th>1</th>\n",
              "      <td>2</td>\n",
              "      <td>2017</td>\n",
              "      <td>Pune</td>\n",
              "      <td>2017-04-06</td>\n",
              "      <td>Mumbai Indians</td>\n",
              "      <td>Rising Pune Supergiant</td>\n",
              "      <td>Rising Pune Supergiant</td>\n",
              "      <td>field</td>\n",
              "      <td>normal</td>\n",
              "      <td>0</td>\n",
              "      <td>Rising Pune Supergiant</td>\n",
              "      <td>0</td>\n",
              "      <td>7</td>\n",
              "      <td>SPD Smith</td>\n",
              "      <td>Maharashtra Cricket Association Stadium</td>\n",
              "      <td>A Nand Kishore</td>\n",
              "      <td>S Ravi</td>\n",
              "      <td>NaN</td>\n",
              "    </tr>\n",
              "    <tr>\n",
              "      <th>2</th>\n",
              "      <td>3</td>\n",
              "      <td>2017</td>\n",
              "      <td>Rajkot</td>\n",
              "      <td>2017-04-07</td>\n",
              "      <td>Gujarat Lions</td>\n",
              "      <td>Kolkata Knight Riders</td>\n",
              "      <td>Kolkata Knight Riders</td>\n",
              "      <td>field</td>\n",
              "      <td>normal</td>\n",
              "      <td>0</td>\n",
              "      <td>Kolkata Knight Riders</td>\n",
              "      <td>0</td>\n",
              "      <td>10</td>\n",
              "      <td>CA Lynn</td>\n",
              "      <td>Saurashtra Cricket Association Stadium</td>\n",
              "      <td>Nitin Menon</td>\n",
              "      <td>CK Nandan</td>\n",
              "      <td>NaN</td>\n",
              "    </tr>\n",
              "    <tr>\n",
              "      <th>3</th>\n",
              "      <td>4</td>\n",
              "      <td>2017</td>\n",
              "      <td>Indore</td>\n",
              "      <td>2017-04-08</td>\n",
              "      <td>Rising Pune Supergiant</td>\n",
              "      <td>Kings XI Punjab</td>\n",
              "      <td>Kings XI Punjab</td>\n",
              "      <td>field</td>\n",
              "      <td>normal</td>\n",
              "      <td>0</td>\n",
              "      <td>Kings XI Punjab</td>\n",
              "      <td>0</td>\n",
              "      <td>6</td>\n",
              "      <td>GJ Maxwell</td>\n",
              "      <td>Holkar Cricket Stadium</td>\n",
              "      <td>AK Chaudhary</td>\n",
              "      <td>C Shamshuddin</td>\n",
              "      <td>NaN</td>\n",
              "    </tr>\n",
              "    <tr>\n",
              "      <th>4</th>\n",
              "      <td>5</td>\n",
              "      <td>2017</td>\n",
              "      <td>Bangalore</td>\n",
              "      <td>2017-04-08</td>\n",
              "      <td>Royal Challengers Bangalore</td>\n",
              "      <td>Delhi Daredevils</td>\n",
              "      <td>Royal Challengers Bangalore</td>\n",
              "      <td>bat</td>\n",
              "      <td>normal</td>\n",
              "      <td>0</td>\n",
              "      <td>Royal Challengers Bangalore</td>\n",
              "      <td>15</td>\n",
              "      <td>0</td>\n",
              "      <td>KM Jadhav</td>\n",
              "      <td>M Chinnaswamy Stadium</td>\n",
              "      <td>NaN</td>\n",
              "      <td>NaN</td>\n",
              "      <td>NaN</td>\n",
              "    </tr>\n",
              "  </tbody>\n",
              "</table>\n",
              "</div>"
            ],
            "text/plain": [
              "   id  season       city        date                        team1  \\\n",
              "0   1    2017  Hyderabad  2017-04-05          Sunrisers Hyderabad   \n",
              "1   2    2017       Pune  2017-04-06               Mumbai Indians   \n",
              "2   3    2017     Rajkot  2017-04-07                Gujarat Lions   \n",
              "3   4    2017     Indore  2017-04-08       Rising Pune Supergiant   \n",
              "4   5    2017  Bangalore  2017-04-08  Royal Challengers Bangalore   \n",
              "\n",
              "                         team2                  toss_winner toss_decision  \\\n",
              "0  Royal Challengers Bangalore  Royal Challengers Bangalore         field   \n",
              "1       Rising Pune Supergiant       Rising Pune Supergiant         field   \n",
              "2        Kolkata Knight Riders        Kolkata Knight Riders         field   \n",
              "3              Kings XI Punjab              Kings XI Punjab         field   \n",
              "4             Delhi Daredevils  Royal Challengers Bangalore           bat   \n",
              "\n",
              "   result  dl_applied                       winner  win_by_runs  \\\n",
              "0  normal           0          Sunrisers Hyderabad           35   \n",
              "1  normal           0       Rising Pune Supergiant            0   \n",
              "2  normal           0        Kolkata Knight Riders            0   \n",
              "3  normal           0              Kings XI Punjab            0   \n",
              "4  normal           0  Royal Challengers Bangalore           15   \n",
              "\n",
              "   win_by_wickets player_of_match                                      venue  \\\n",
              "0               0    Yuvraj Singh  Rajiv Gandhi International Stadium, Uppal   \n",
              "1               7       SPD Smith    Maharashtra Cricket Association Stadium   \n",
              "2              10         CA Lynn     Saurashtra Cricket Association Stadium   \n",
              "3               6      GJ Maxwell                     Holkar Cricket Stadium   \n",
              "4               0       KM Jadhav                      M Chinnaswamy Stadium   \n",
              "\n",
              "          umpire1        umpire2 umpire3  \n",
              "0     AY Dandekar       NJ Llong     NaN  \n",
              "1  A Nand Kishore         S Ravi     NaN  \n",
              "2     Nitin Menon      CK Nandan     NaN  \n",
              "3    AK Chaudhary  C Shamshuddin     NaN  \n",
              "4             NaN            NaN     NaN  "
            ]
          },
          "execution_count": 7,
          "metadata": {},
          "output_type": "execute_result"
        }
      ],
      "source": [
        "matches.head()"
      ]
    },
    {
      "cell_type": "code",
      "execution_count": null,
      "id": "5f69de4d",
      "metadata": {
        "id": "5f69de4d",
        "outputId": "837fd2e9-17e6-4a5d-ed01-282e0a6fafb8"
      },
      "outputs": [
        {
          "data": {
            "text/plain": [
              "0      0\n",
              "1      0\n",
              "2      0\n",
              "3      0\n",
              "4      0\n",
              "      ..\n",
              "751    0\n",
              "752    0\n",
              "753    0\n",
              "754    0\n",
              "755    0\n",
              "Name: dl_applied, Length: 756, dtype: int64"
            ]
          },
          "execution_count": 20,
          "metadata": {},
          "output_type": "execute_result"
        }
      ],
      "source": [
        "matches[\"dl_applied\"]"
      ]
    },
    {
      "cell_type": "code",
      "execution_count": null,
      "id": "d024ca44",
      "metadata": {
        "id": "d024ca44",
        "outputId": "1400a49a-cb85-4878-92b4-25336202c993"
      },
      "outputs": [
        {
          "data": {
            "text/html": [
              "<div>\n",
              "<style scoped>\n",
              "    .dataframe tbody tr th:only-of-type {\n",
              "        vertical-align: middle;\n",
              "    }\n",
              "\n",
              "    .dataframe tbody tr th {\n",
              "        vertical-align: top;\n",
              "    }\n",
              "\n",
              "    .dataframe thead th {\n",
              "        text-align: right;\n",
              "    }\n",
              "</style>\n",
              "<table border=\"1\" class=\"dataframe\">\n",
              "  <thead>\n",
              "    <tr style=\"text-align: right;\">\n",
              "      <th></th>\n",
              "      <th>match_id</th>\n",
              "      <th>inning</th>\n",
              "      <th>batting_team</th>\n",
              "      <th>bowling_team</th>\n",
              "      <th>over</th>\n",
              "      <th>ball</th>\n",
              "      <th>batsman</th>\n",
              "      <th>non_striker</th>\n",
              "      <th>bowler</th>\n",
              "      <th>is_super_over</th>\n",
              "      <th>...</th>\n",
              "      <th>bye_runs</th>\n",
              "      <th>legbye_runs</th>\n",
              "      <th>noball_runs</th>\n",
              "      <th>penalty_runs</th>\n",
              "      <th>batsman_runs</th>\n",
              "      <th>extra_runs</th>\n",
              "      <th>total_runs</th>\n",
              "      <th>player_dismissed</th>\n",
              "      <th>dismissal_kind</th>\n",
              "      <th>fielder</th>\n",
              "    </tr>\n",
              "  </thead>\n",
              "  <tbody>\n",
              "    <tr>\n",
              "      <th>0</th>\n",
              "      <td>1</td>\n",
              "      <td>1</td>\n",
              "      <td>Sunrisers Hyderabad</td>\n",
              "      <td>Royal Challengers Bangalore</td>\n",
              "      <td>1</td>\n",
              "      <td>1</td>\n",
              "      <td>DA Warner</td>\n",
              "      <td>S Dhawan</td>\n",
              "      <td>TS Mills</td>\n",
              "      <td>0</td>\n",
              "      <td>...</td>\n",
              "      <td>0</td>\n",
              "      <td>0</td>\n",
              "      <td>0</td>\n",
              "      <td>0</td>\n",
              "      <td>0</td>\n",
              "      <td>0</td>\n",
              "      <td>0</td>\n",
              "      <td>NaN</td>\n",
              "      <td>NaN</td>\n",
              "      <td>NaN</td>\n",
              "    </tr>\n",
              "    <tr>\n",
              "      <th>1</th>\n",
              "      <td>1</td>\n",
              "      <td>1</td>\n",
              "      <td>Sunrisers Hyderabad</td>\n",
              "      <td>Royal Challengers Bangalore</td>\n",
              "      <td>1</td>\n",
              "      <td>2</td>\n",
              "      <td>DA Warner</td>\n",
              "      <td>S Dhawan</td>\n",
              "      <td>TS Mills</td>\n",
              "      <td>0</td>\n",
              "      <td>...</td>\n",
              "      <td>0</td>\n",
              "      <td>0</td>\n",
              "      <td>0</td>\n",
              "      <td>0</td>\n",
              "      <td>0</td>\n",
              "      <td>0</td>\n",
              "      <td>0</td>\n",
              "      <td>NaN</td>\n",
              "      <td>NaN</td>\n",
              "      <td>NaN</td>\n",
              "    </tr>\n",
              "    <tr>\n",
              "      <th>2</th>\n",
              "      <td>1</td>\n",
              "      <td>1</td>\n",
              "      <td>Sunrisers Hyderabad</td>\n",
              "      <td>Royal Challengers Bangalore</td>\n",
              "      <td>1</td>\n",
              "      <td>3</td>\n",
              "      <td>DA Warner</td>\n",
              "      <td>S Dhawan</td>\n",
              "      <td>TS Mills</td>\n",
              "      <td>0</td>\n",
              "      <td>...</td>\n",
              "      <td>0</td>\n",
              "      <td>0</td>\n",
              "      <td>0</td>\n",
              "      <td>0</td>\n",
              "      <td>4</td>\n",
              "      <td>0</td>\n",
              "      <td>4</td>\n",
              "      <td>NaN</td>\n",
              "      <td>NaN</td>\n",
              "      <td>NaN</td>\n",
              "    </tr>\n",
              "    <tr>\n",
              "      <th>3</th>\n",
              "      <td>1</td>\n",
              "      <td>1</td>\n",
              "      <td>Sunrisers Hyderabad</td>\n",
              "      <td>Royal Challengers Bangalore</td>\n",
              "      <td>1</td>\n",
              "      <td>4</td>\n",
              "      <td>DA Warner</td>\n",
              "      <td>S Dhawan</td>\n",
              "      <td>TS Mills</td>\n",
              "      <td>0</td>\n",
              "      <td>...</td>\n",
              "      <td>0</td>\n",
              "      <td>0</td>\n",
              "      <td>0</td>\n",
              "      <td>0</td>\n",
              "      <td>0</td>\n",
              "      <td>0</td>\n",
              "      <td>0</td>\n",
              "      <td>NaN</td>\n",
              "      <td>NaN</td>\n",
              "      <td>NaN</td>\n",
              "    </tr>\n",
              "    <tr>\n",
              "      <th>4</th>\n",
              "      <td>1</td>\n",
              "      <td>1</td>\n",
              "      <td>Sunrisers Hyderabad</td>\n",
              "      <td>Royal Challengers Bangalore</td>\n",
              "      <td>1</td>\n",
              "      <td>5</td>\n",
              "      <td>DA Warner</td>\n",
              "      <td>S Dhawan</td>\n",
              "      <td>TS Mills</td>\n",
              "      <td>0</td>\n",
              "      <td>...</td>\n",
              "      <td>0</td>\n",
              "      <td>0</td>\n",
              "      <td>0</td>\n",
              "      <td>0</td>\n",
              "      <td>0</td>\n",
              "      <td>2</td>\n",
              "      <td>2</td>\n",
              "      <td>NaN</td>\n",
              "      <td>NaN</td>\n",
              "      <td>NaN</td>\n",
              "    </tr>\n",
              "  </tbody>\n",
              "</table>\n",
              "<p>5 rows × 21 columns</p>\n",
              "</div>"
            ],
            "text/plain": [
              "   match_id  inning         batting_team                 bowling_team  over  \\\n",
              "0         1       1  Sunrisers Hyderabad  Royal Challengers Bangalore     1   \n",
              "1         1       1  Sunrisers Hyderabad  Royal Challengers Bangalore     1   \n",
              "2         1       1  Sunrisers Hyderabad  Royal Challengers Bangalore     1   \n",
              "3         1       1  Sunrisers Hyderabad  Royal Challengers Bangalore     1   \n",
              "4         1       1  Sunrisers Hyderabad  Royal Challengers Bangalore     1   \n",
              "\n",
              "   ball    batsman non_striker    bowler  is_super_over  ...  bye_runs  \\\n",
              "0     1  DA Warner    S Dhawan  TS Mills              0  ...         0   \n",
              "1     2  DA Warner    S Dhawan  TS Mills              0  ...         0   \n",
              "2     3  DA Warner    S Dhawan  TS Mills              0  ...         0   \n",
              "3     4  DA Warner    S Dhawan  TS Mills              0  ...         0   \n",
              "4     5  DA Warner    S Dhawan  TS Mills              0  ...         0   \n",
              "\n",
              "   legbye_runs  noball_runs  penalty_runs  batsman_runs  extra_runs  \\\n",
              "0            0            0             0             0           0   \n",
              "1            0            0             0             0           0   \n",
              "2            0            0             0             4           0   \n",
              "3            0            0             0             0           0   \n",
              "4            0            0             0             0           2   \n",
              "\n",
              "   total_runs  player_dismissed dismissal_kind fielder  \n",
              "0           0               NaN            NaN     NaN  \n",
              "1           0               NaN            NaN     NaN  \n",
              "2           4               NaN            NaN     NaN  \n",
              "3           0               NaN            NaN     NaN  \n",
              "4           2               NaN            NaN     NaN  \n",
              "\n",
              "[5 rows x 21 columns]"
            ]
          },
          "execution_count": 8,
          "metadata": {},
          "output_type": "execute_result"
        }
      ],
      "source": [
        "deliveries.head()"
      ]
    },
    {
      "cell_type": "code",
      "execution_count": null,
      "id": "cf1b999c",
      "metadata": {
        "id": "cf1b999c",
        "outputId": "59dcc4d7-83c8-49f5-b7d9-e240190b8845"
      },
      "outputs": [
        {
          "data": {
            "text/plain": [
              "Index(['match_id', 'inning', 'batting_team', 'bowling_team', 'over', 'ball',\n",
              "       'batsman', 'non_striker', 'bowler', 'is_super_over', 'wide_runs',\n",
              "       'bye_runs', 'legbye_runs', 'noball_runs', 'penalty_runs',\n",
              "       'batsman_runs', 'extra_runs', 'total_runs', 'player_dismissed',\n",
              "       'dismissal_kind', 'fielder'],\n",
              "      dtype='object')"
            ]
          },
          "execution_count": 9,
          "metadata": {},
          "output_type": "execute_result"
        }
      ],
      "source": [
        "deliveries.columns"
      ]
    },
    {
      "cell_type": "code",
      "execution_count": null,
      "id": "e1597cb2",
      "metadata": {
        "id": "e1597cb2",
        "outputId": "381c4b87-b2bd-4ddb-cacd-5776c0694186"
      },
      "outputs": [
        {
          "data": {
            "text/plain": [
              "(179078, 21)"
            ]
          },
          "execution_count": 12,
          "metadata": {},
          "output_type": "execute_result"
        }
      ],
      "source": [
        "deliveries.shape"
      ]
    },
    {
      "cell_type": "code",
      "execution_count": null,
      "id": "64e74243",
      "metadata": {
        "id": "64e74243",
        "outputId": "e9bd0030-6b4e-4810-8185-39fcc54b8648"
      },
      "outputs": [
        {
          "data": {
            "text/plain": [
              "Index(['id', 'season', 'city', 'date', 'team1', 'team2', 'toss_winner',\n",
              "       'toss_decision', 'result', 'dl_applied', 'winner', 'win_by_runs',\n",
              "       'win_by_wickets', 'player_of_match', 'venue', 'umpire1', 'umpire2',\n",
              "       'umpire3'],\n",
              "      dtype='object')"
            ]
          },
          "execution_count": 10,
          "metadata": {},
          "output_type": "execute_result"
        }
      ],
      "source": [
        "matches.columns"
      ]
    },
    {
      "cell_type": "code",
      "execution_count": null,
      "id": "bc0e6ba1",
      "metadata": {
        "id": "bc0e6ba1",
        "outputId": "1c876399-8fba-4b6f-e7b5-49259e2c2371"
      },
      "outputs": [
        {
          "data": {
            "text/plain": [
              "(756, 18)"
            ]
          },
          "execution_count": 13,
          "metadata": {},
          "output_type": "execute_result"
        }
      ],
      "source": [
        "matches.shape"
      ]
    },
    {
      "cell_type": "code",
      "execution_count": null,
      "id": "809d65e2",
      "metadata": {
        "id": "809d65e2"
      },
      "outputs": [],
      "source": [
        "# 1\n",
        "df = pd.merge(deliveries, matches, left_on='match_id', right_on='id', how='left')"
      ]
    },
    {
      "cell_type": "code",
      "execution_count": null,
      "id": "cd533b9a",
      "metadata": {
        "id": "cd533b9a",
        "outputId": "2544ff68-1bad-4549-c31a-58b304169941"
      },
      "outputs": [
        {
          "data": {
            "text/plain": [
              "id                   0\n",
              "season               0\n",
              "city                 7\n",
              "date                 0\n",
              "team1                0\n",
              "team2                0\n",
              "toss_winner          0\n",
              "toss_decision        0\n",
              "result               0\n",
              "dl_applied           0\n",
              "winner               4\n",
              "win_by_runs          0\n",
              "win_by_wickets       0\n",
              "player_of_match      4\n",
              "venue                0\n",
              "umpire1              2\n",
              "umpire2              2\n",
              "umpire3            637\n",
              "dtype: int64"
            ]
          },
          "execution_count": 14,
          "metadata": {},
          "output_type": "execute_result"
        }
      ],
      "source": [
        "# 2\n",
        "matches.isna().sum()"
      ]
    },
    {
      "cell_type": "code",
      "execution_count": null,
      "id": "834bdf66",
      "metadata": {
        "id": "834bdf66",
        "outputId": "95d9cf51-a9ee-4088-d129-443d494b56d5"
      },
      "outputs": [
        {
          "data": {
            "text/plain": [
              "count        749\n",
              "unique        32\n",
              "top       Mumbai\n",
              "freq         101\n",
              "Name: city, dtype: object"
            ]
          },
          "execution_count": 18,
          "metadata": {},
          "output_type": "execute_result"
        }
      ],
      "source": [
        "#3\n",
        "matches[\"city\"].describe()"
      ]
    },
    {
      "cell_type": "code",
      "execution_count": null,
      "id": "2dfea776",
      "metadata": {
        "id": "2dfea776",
        "outputId": "35293b4d-802e-4860-bd0d-c45f102cdaa9"
      },
      "outputs": [
        {
          "data": {
            "text/plain": [
              "(179078, 39)"
            ]
          },
          "execution_count": 22,
          "metadata": {},
          "output_type": "execute_result"
        }
      ],
      "source": [
        "df.shape"
      ]
    },
    {
      "cell_type": "code",
      "execution_count": null,
      "id": "1aecc13d",
      "metadata": {
        "id": "1aecc13d",
        "outputId": "45df1f99-cacc-4ed3-a4d5-5a2b4f2d0bff"
      },
      "outputs": [
        {
          "data": {
            "text/plain": [
              "Index(['match_id', 'inning', 'batting_team', 'bowling_team', 'over', 'ball',\n",
              "       'batsman', 'non_striker', 'bowler', 'is_super_over', 'wide_runs',\n",
              "       'bye_runs', 'legbye_runs', 'noball_runs', 'penalty_runs',\n",
              "       'batsman_runs', 'extra_runs', 'total_runs', 'player_dismissed',\n",
              "       'dismissal_kind', 'fielder', 'id', 'season', 'city', 'date', 'team1',\n",
              "       'team2', 'toss_winner', 'toss_decision', 'result', 'dl_applied',\n",
              "       'winner', 'win_by_runs', 'win_by_wickets', 'player_of_match', 'venue',\n",
              "       'umpire1', 'umpire2', 'umpire3'],\n",
              "      dtype='object')"
            ]
          },
          "execution_count": 23,
          "metadata": {},
          "output_type": "execute_result"
        }
      ],
      "source": [
        "df.columns"
      ]
    },
    {
      "cell_type": "code",
      "execution_count": null,
      "id": "3b927411",
      "metadata": {
        "id": "3b927411",
        "outputId": "4d9f6907-c27a-47cb-e048-14e51e5d87a5"
      },
      "outputs": [
        {
          "data": {
            "text/plain": [
              "2013    76\n",
              "2012    74\n",
              "2011    73\n",
              "2010    60\n",
              "2014    60\n",
              "2016    60\n",
              "2018    60\n",
              "2019    60\n",
              "2017    59\n",
              "2015    59\n",
              "2008    58\n",
              "2009    57\n",
              "Name: season, dtype: int64"
            ]
          },
          "execution_count": 24,
          "metadata": {},
          "output_type": "execute_result"
        }
      ],
      "source": [
        "# 4\n",
        "matches[\"season\"].value_counts()\n"
      ]
    },
    {
      "cell_type": "code",
      "execution_count": null,
      "id": "b90a045b",
      "metadata": {
        "id": "b90a045b",
        "outputId": "be3c3a40-1ad4-4356-96b2-1a5c51b7d3de"
      },
      "outputs": [
        {
          "data": {
            "text/plain": [
              "winner\n",
              "Chennai Super Kings            11\n",
              "Mumbai Indians                 10\n",
              "Royal Challengers Bangalore    10\n",
              "Kolkata Knight Riders           8\n",
              "Kings XI Punjab                 7\n",
              "Deccan Chargers                 6\n",
              "Kochi Tuskers Kerala            6\n",
              "Rajasthan Royals                6\n",
              "Delhi Daredevils                4\n",
              "Pune Warriors                   4\n",
              "Name: winner, dtype: int64"
            ]
          },
          "execution_count": 26,
          "metadata": {},
          "output_type": "execute_result"
        }
      ],
      "source": [
        "# 5\n",
        "wins=matches.groupby('season')['winner'].value_counts()\n",
        "wins[2011]"
      ]
    },
    {
      "cell_type": "code",
      "execution_count": null,
      "id": "fee138ef",
      "metadata": {
        "id": "fee138ef"
      },
      "outputs": [],
      "source": [
        "#6"
      ]
    },
    {
      "cell_type": "code",
      "execution_count": null,
      "id": "22db04bc",
      "metadata": {
        "id": "22db04bc",
        "outputId": "e9967ba8-b17f-409d-8903-657a6f3690fb"
      },
      "outputs": [
        {
          "data": {
            "image/png": "[encoded data removed]",
            "text/plain": [
              "<Figure size 800x600 with 1 Axes>"
            ]
          },
          "metadata": {},
          "output_type": "display_data"
        }
      ],
      "source": [
        "#7\n",
        "import matplotlib.pyplot as plt\n",
        "\n",
        "toss_decision_counts = matches['toss_decision'].value_counts()\n",
        "plt.figure(figsize=(8, 6))\n",
        "plt.pie(toss_decision_counts, labels=toss_decision_counts.index, autopct='%1.1f%%', startangle=140, colors=['skyblue', 'lightgreen'])\n",
        "plt.title('Toss Decision Distribution')\n",
        "plt.axis('equal')\n",
        "plt.show()"
      ]
    },
    {
      "cell_type": "code",
      "execution_count": null,
      "id": "2b2a6488",
      "metadata": {
        "id": "2b2a6488",
        "outputId": "5aa88487-3970-4f3c-e11c-ec14a83ccb7a"
      },
      "outputs": [
        {
          "data": {
            "image/png": "[encoded data removed]",
            "text/plain": [
              "<Figure size 800x600 with 1 Axes>"
            ]
          },
          "metadata": {},
          "output_type": "display_data"
        }
      ],
      "source": [
        "# 8\n",
        "import pandas as pd\n",
        "import matplotlib.pyplot as plt\n",
        "\n",
        "# Assuming 'matches' is your DataFrame containing 'toss_winner', 'winner', and 'toss_decision' columns\n",
        "\n",
        "# Filter matches based on winning and losing the toss\n",
        "won_toss_won_match = matches[(matches['toss_winner'] == matches['winner'])]\n",
        "won_toss_lost_match = matches[(matches['toss_winner'] != matches['winner'])]\n",
        "\n",
        "# Counting matches based on toss result and toss decision\n",
        "won_toss_won_bat = len(won_toss_won_match[won_toss_won_match['toss_decision'] == 'bat'])\n",
        "won_toss_won_field = len(won_toss_won_match[won_toss_won_match['toss_decision'] == 'field'])\n",
        "\n",
        "won_toss_lost_bat = len(won_toss_lost_match[won_toss_lost_match['toss_decision'] == 'bat'])\n",
        "won_toss_lost_field = len(won_toss_lost_match[won_toss_lost_match['toss_decision'] == 'field'])\n",
        "\n",
        "# Create a dictionary to hold counts\n",
        "toss_result_counts = {\n",
        "    'Won Toss, Chose to Bat, and Won Match': won_toss_won_bat,\n",
        "    'Won Toss, Chose to Field, and Won Match': won_toss_won_field,\n",
        "    'Lost Toss, Chose to Bat, and Lost Match': won_toss_lost_bat,\n",
        "    'Lost Toss, Chose to Field, and Lost Match': won_toss_lost_field\n",
        "}\n",
        "\n",
        "# Create a pie chart\n",
        "plt.figure(figsize=(8, 6))\n",
        "plt.pie(toss_result_counts.values(), labels=toss_result_counts.keys(), autopct='%1.1f%%', startangle=140, colors=['lightgreen', 'lightcoral', 'lightblue', 'lightsalmon'])\n",
        "plt.title('Match Winning Outcome based on Toss Result and Toss Decision')\n",
        "plt.axis('equal')  # Equal aspect ratio ensures that pie is drawn as a circle\n",
        "plt.show()"
      ]
    },
    {
      "cell_type": "code",
      "execution_count": null,
      "id": "5d8bd1c7",
      "metadata": {
        "id": "5d8bd1c7",
        "outputId": "7a2c3e4b-74f0-44c0-ffaf-316405b30acc"
      },
      "outputs": [
        {
          "data": {
            "text/plain": [
              "Eden Gardens                                            77\n",
              "M Chinnaswamy Stadium                                   73\n",
              "Wankhede Stadium                                        73\n",
              "Feroz Shah Kotla                                        67\n",
              "Rajiv Gandhi International Stadium, Uppal               56\n",
              "MA Chidambaram Stadium, Chepauk                         49\n",
              "Sawai Mansingh Stadium                                  47\n",
              "Punjab Cricket Association Stadium, Mohali              35\n",
              "Maharashtra Cricket Association Stadium                 21\n",
              "Subrata Roy Sahara Stadium                              17\n",
              "Dr DY Patil Sports Academy                              17\n",
              "Kingsmead                                               15\n",
              "Punjab Cricket Association IS Bindra Stadium, Mohali    14\n",
              "SuperSport Park                                         12\n",
              "Sardar Patel Stadium, Motera                            12\n",
              "Dr. Y.S. Rajasekhara Reddy ACA-VDCA Cricket Stadium     11\n",
              "Brabourne Stadium                                       11\n",
              "Saurashtra Cricket Association Stadium                  10\n",
              "Holkar Cricket Stadium                                   9\n",
              "Himachal Pradesh Cricket Association Stadium             9\n",
              "Rajiv Gandhi Intl. Cricket Stadium                       8\n",
              "M. A. Chidambaram Stadium                                8\n",
              "New Wanderers Stadium                                    8\n",
              "Feroz Shah Kotla Ground                                  7\n",
              "Barabati Stadium                                         7\n",
              "M. Chinnaswamy Stadium                                   7\n",
              "St George's Park                                         7\n",
              "Newlands                                                 7\n",
              "JSCA International Stadium Complex                       7\n",
              "Sheikh Zayed Stadium                                     7\n",
              "Dubai International Cricket Stadium                      7\n",
              "IS Bindra Stadium                                        7\n",
              "Shaheed Veer Narayan Singh International Stadium         6\n",
              "Sharjah Cricket Stadium                                  6\n",
              "Nehru Stadium                                            5\n",
              "Green Park                                               4\n",
              "De Beers Diamond Oval                                    3\n",
              "Vidarbha Cricket Association Stadium, Jamtha             3\n",
              "Buffalo Park                                             3\n",
              "OUTsurance Oval                                          2\n",
              "ACA-VDCA Stadium                                         2\n",
              "Name: venue, dtype: int64"
            ]
          },
          "execution_count": 29,
          "metadata": {},
          "output_type": "execute_result"
        }
      ],
      "source": [
        "#15\n",
        "matches['venue'].value_counts()"
      ]
    },
    {
      "cell_type": "code",
      "execution_count": null,
      "id": "2d462987",
      "metadata": {
        "id": "2d462987"
      },
      "outputs": [],
      "source": []
    }
  ],
  "metadata": {
    "kernelspec": {
      "display_name": "Python 3 (ipykernel)",
      "language": "python",
      "name": "python3"
    },
    "language_info": {
      "codemirror_mode": {
        "name": "ipython",
        "version": 3
      },
      "file_extension": ".py",
      "mimetype": "text/x-python",
      "name": "python",
      "nbconvert_exporter": "python",
      "pygments_lexer": "ipython3",
      "version": "3.11.4"
    },
    "colab": {
      "provenance": [],
      "include_colab_link": true
    }
  },
  "nbformat": 4,
  "nbformat_minor": 5
}